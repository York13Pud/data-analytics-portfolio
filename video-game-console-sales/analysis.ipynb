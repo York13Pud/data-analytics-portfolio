{
 "cells": [
  {
   "cell_type": "markdown",
   "metadata": {},
   "source": [
    "# Worldwide Total Video Game Console Sales Analysis"
   ]
  },
  {
   "cell_type": "markdown",
   "metadata": {},
   "source": [
    "## 1. Introduction."
   ]
  },
  {
   "cell_type": "markdown",
   "metadata": {},
   "source": [
    "This notebook covers the analysis of some of the worlds best selling video games consoles, ranging from the 1970's to current day consoles."
   ]
  },
  {
   "cell_type": "markdown",
   "metadata": {},
   "source": []
  },
  {
   "cell_type": "markdown",
   "metadata": {},
   "source": [
    "## 2. Requirements."
   ]
  },
  {
   "cell_type": "markdown",
   "metadata": {},
   "source": [
    "The main insights that are required from this analysis are:\n",
    "\n",
    "- Rank the consoles by their overall sales.\n",
    "- Rank the consoles by their regional sales.\n",
    "- Rank the consoles by their overall number of games.\n",
    "- Rank the consoles by their overall msrp (highest to lowest).\n",
    "- Rank the consoles by their form factor (handheld or not) and overall sales.\n",
    "- Rank the consoles by their form factor (handheld or not) and regional sales.\n",
    "- Rank the vendors by the overall consoles sold and what each one was.\n",
    "- Rank the vendors by the regional consoles sold and what each one was.\n",
    "- Determine what the most popular console was for each decade that is present in the data.\n",
    "- The average price of a console for each decade in the data.\n",
    "- The average life cycle of a console overall and by decade.\n",
    "- The overall failure rate number for each console."
   ]
  },
  {
   "cell_type": "markdown",
   "metadata": {},
   "source": [
    "## 3. Data Collection."
   ]
  },
  {
   "cell_type": "markdown",
   "metadata": {},
   "source": [
    "The bulk of the data for this was collected using a web scraper from https://www.videogameconsolelibrary.com.\n",
    "\n",
    "The originally scraped data was saved to a CSV file called 01-original-data.csv, which is stored in the data folder.\n",
    "\n",
    "Additionally, a number of features were added to the data using Excel from a number of sources. These sources include:\n",
    "\n",
    "- https://www.computinghistory.org.uk/ - Used for additional stats, such as launch price and release / discontinuation dates.\n",
    "- https://www.macrotrends.net/ - Used for currency conversions of older systems reported in non-USD currencies.\n",
    "- https://necretro.org/ - Used for additional stats, such as launch price and release / discontinuation dates.\n",
    "- https://en.wikipedia.org/ Used for additional stats, such as launch price and release / discontinuation dates.\n",
    "\n",
    "Lastly, the failure rate information for the xBox 360, PlayStation 3 and Wii were obtained from the below link:\n",
    "https://www.squaretrade.com/htm/pdf/SquareTrade_Xbox360_PS3_Wii_Reliability_0809.pdf\n",
    "\n",
    "The failure rate for other consoles is unknown so an estimate of 7.5% was used. This was determined by taking the failure rate of the Nintendo Wii (2.7%), which was rounded to 3% and the failure rate of the PlayStation 3 (10%) and working out the middle point between them (7.5%).\n",
    "\n",
    "The final data that will be used for this is stored in `./data/02-processed-data.xlsx`. A CSV version (`02-processed-data.csv`) is also stored in the same location.\n",
    "\n",
    "**NOTE** The Pandora console was removed as it is used mostly for emulation and has no real native games."
   ]
  },
  {
   "cell_type": "markdown",
   "metadata": {},
   "source": [
    "## 4. Data Dictionary."
   ]
  },
  {
   "cell_type": "markdown",
   "metadata": {},
   "source": [
    "The data dictionary is stored in `./data/00-data-dictionary.xlsx`."
   ]
  },
  {
   "cell_type": "markdown",
   "metadata": {},
   "source": [
    "## 5. Data Importing And Formatting."
   ]
  },
  {
   "cell_type": "markdown",
   "metadata": {},
   "source": [
    "### 5.1. Import The Required Libraries / Modules."
   ]
  },
  {
   "cell_type": "code",
   "execution_count": null,
   "metadata": {},
   "outputs": [],
   "source": [
    "# -- Required libraries:\n",
    "import matplotlib.pyplot as plt\n",
    "import numpy as np\n",
    "import pandas as pd\n",
    "import seaborn as sns"
   ]
  },
  {
   "cell_type": "code",
   "execution_count": null,
   "metadata": {},
   "outputs": [],
   "source": [
    "# -- Required modules:\n",
    "from modules.seaborn_templates import colours, sns_barplot_ax"
   ]
  },
  {
   "cell_type": "markdown",
   "metadata": {},
   "source": [
    "### 5.2. Import The Data."
   ]
  },
  {
   "cell_type": "code",
   "execution_count": null,
   "metadata": {},
   "outputs": [],
   "source": [
    "# -- Select the columns to use:  \n",
    "columns = [\"vendor\", \"platform\", \"handheld\", \"released_date\", \"discontinued_date\",\n",
    "           \"total_available_games\", \"failure_rate_percentage\", \"msrp_usd\",\n",
    "           \"global_millions\", \"europe_millions\", \"north_america_millions\", \n",
    "           \"japan_millions\", \"rest_of_the_world_millions\", \n",
    "           \"unknown_sales_millions\"]\n",
    "\n",
    "df = pd.read_excel(io = \"./data/02-processed-data.xlsx\", \n",
    "                   sheet_name = \"02-processed-data\",\n",
    "                   usecols = columns,\n",
    "                   dtype = {\"global_millions\": np.float64,\n",
    "                            \"europe_millions\": np.float64, \n",
    "                            \"north_america_millions\": np.float64,\n",
    "                            \"japan_millions\": np.float64, \n",
    "                            \"rest_of_the_world_millions\": np.float64,\n",
    "                            \"unknown_sales_millions\": np.float64})\n",
    "\n",
    "# -- Reindex the dataframe so that the columns are in the required order:\n",
    "df = df.reindex(columns = columns)"
   ]
  },
  {
   "cell_type": "markdown",
   "metadata": {},
   "source": []
  },
  {
   "cell_type": "markdown",
   "metadata": {},
   "source": [
    "### 5.3. Set Colour Pallette(s)."
   ]
  },
  {
   "cell_type": "code",
   "execution_count": null,
   "metadata": {},
   "outputs": [],
   "source": [
    "# -- Create the default colour pallette:\n",
    "colour_pallette = colours(data = df)"
   ]
  },
  {
   "cell_type": "code",
   "execution_count": null,
   "metadata": {},
   "outputs": [],
   "source": [
    "# -- Set the defaults for Seaborn.\n",
    "# -- Set the default size of figures:\n",
    "sns.set(rc = {\"figure.figsize\": (8, 8)})\n",
    "\n",
    "\n",
    "# -- Set the background colour of the axes and turn on the legend frame:\n",
    "sns.set_style(rc = {'figure.facecolor': 'white',\n",
    "                    'axes.labelcolor': '.15',\n",
    "                    'xtick.direction': 'out',\n",
    "                    'ytick.direction': 'out',\n",
    "                    'xtick.color': '.15',\n",
    "                    'ytick.color': '.15',\n",
    "                    'axes.axisbelow': True,\n",
    "                    'grid.linestyle': '-',\n",
    "                    'text.color': '.15',\n",
    "                    'font.family': ['sans-serif'],\n",
    "                    'font.sans-serif': ['Arial',\n",
    "                                        'DejaVu Sans',\n",
    "                                        'Liberation Sans',\n",
    "                                        'Bitstream Vera Sans',\n",
    "                                        'sans-serif'],\n",
    "                    'lines.solid_capstyle': 'round',\n",
    "                    'patch.edgecolor': 'w',\n",
    "                    'patch.force_edgecolor': True,\n",
    "                    'image.cmap': 'rocket',\n",
    "                    'xtick.top': False,\n",
    "                    'ytick.right': False,\n",
    "                    'axes.grid': True,\n",
    "                    'axes.facecolor': '#EAEAF2',\n",
    "                    'axes.edgecolor': 'black',\n",
    "                    'grid.color': 'white',\n",
    "                    'axes.spines.left': True,\n",
    "                    'axes.spines.bottom': True,\n",
    "                    'axes.spines.right': False,\n",
    "                    'axes.spines.top': False,\n",
    "                    'xtick.bottom': True,\n",
    "                    'ytick.left': False,\n",
    "                    \"legend.frameon\": True})"
   ]
  },
  {
   "cell_type": "markdown",
   "metadata": {},
   "source": [
    "### 5.4. Check The DataTypes."
   ]
  },
  {
   "cell_type": "code",
   "execution_count": null,
   "metadata": {},
   "outputs": [],
   "source": [
    "df.dtypes"
   ]
  },
  {
   "cell_type": "markdown",
   "metadata": {},
   "source": [
    "### 5.5. Check The First Five Rows."
   ]
  },
  {
   "cell_type": "code",
   "execution_count": null,
   "metadata": {},
   "outputs": [],
   "source": [
    "df.head(n = 5)"
   ]
  },
  {
   "cell_type": "markdown",
   "metadata": {},
   "source": [
    "### 5.6. Check For NaN Values."
   ]
  },
  {
   "cell_type": "code",
   "execution_count": null,
   "metadata": {},
   "outputs": [],
   "source": [
    "df.isna().sum()"
   ]
  },
  {
   "cell_type": "markdown",
   "metadata": {},
   "source": [
    "Observation: There are no NaN (not a number) values in the dataframe. \n",
    "\n",
    "As a result, it is ok to start exploring the data."
   ]
  },
  {
   "cell_type": "markdown",
   "metadata": {},
   "source": [
    "## 6. Exploratory Data Analysis."
   ]
  },
  {
   "cell_type": "markdown",
   "metadata": {},
   "source": [
    "### 6.1. Rank Consoles By Global Sales."
   ]
  },
  {
   "cell_type": "markdown",
   "metadata": {},
   "source": [
    "#### 6.1.1. Filter Data."
   ]
  },
  {
   "cell_type": "markdown",
   "metadata": {},
   "source": [
    "**NOTE:** Limiting results to top 20 for ease of output."
   ]
  },
  {
   "cell_type": "code",
   "execution_count": null,
   "metadata": {},
   "outputs": [],
   "source": [
    "global_sales = df[[\"vendor\",\"platform\", \"global_millions\"]]\\\n",
    "                   .sort_values(by = \"global_millions\", \n",
    "                                ascending = False).head(20)\\\n",
    "                   .reset_index(drop = True)"
   ]
  },
  {
   "cell_type": "markdown",
   "metadata": {},
   "source": [
    "#### 6.1.2. Show Global Sales (Table)."
   ]
  },
  {
   "cell_type": "code",
   "execution_count": null,
   "metadata": {},
   "outputs": [],
   "source": [
    "global_sales.head(20)"
   ]
  },
  {
   "cell_type": "markdown",
   "metadata": {},
   "source": [
    "#### 6.1.3. Show Global Sales (Bar Chart)."
   ]
  },
  {
   "cell_type": "code",
   "execution_count": null,
   "metadata": {},
   "outputs": [],
   "source": [
    "sns_barplot_ax(data = global_sales,\n",
    "               x_axis = \"global_millions\",\n",
    "               x_axis_label = \"Global (Millions Sold)\",\n",
    "               x_axis_max_value = float(global_sales.global_millions.max()),\n",
    "               y_axis = \"platform\",\n",
    "               y_axis_label = \"Console\",\n",
    "               hue = \"vendor\",\n",
    "               pallette = colour_pallette,\n",
    "               title = \"Top 20 Selling Consoles (Globally)\");"
   ]
  },
  {
   "cell_type": "markdown",
   "metadata": {},
   "source": [
    "#### 6.1.4. Observations."
   ]
  },
  {
   "cell_type": "markdown",
   "metadata": {},
   "source": [
    "From the results of the date, the following has been observed:\n",
    "- The top 5 selling consoles (globally) are dominated by Sony and Nintendo.\n",
    "  - Both of the companies are Japanese based.\n",
    "- Of the top 10 selling consoles (globally), only one is not made by Sony or Nintendo.\n",
    "  - That is the ninth spot that is taken by Microsoft with the Xbox 360.\n",
    "- There are a total of five vendors in the top 20 list, with Sega (17th) and Atari (19th) having one entry each. The remainder consists of Sony, Nintendo and Microsoft."
   ]
  },
  {
   "cell_type": "markdown",
   "metadata": {},
   "source": [
    "### 6.2. Rank Consoles By Regional Sales."
   ]
  },
  {
   "cell_type": "markdown",
   "metadata": {},
   "source": [
    "#### 6.2.1. European Sales."
   ]
  },
  {
   "cell_type": "markdown",
   "metadata": {},
   "source": [
    "##### 6.2.1.1. Filter Data."
   ]
  },
  {
   "cell_type": "code",
   "execution_count": null,
   "metadata": {},
   "outputs": [],
   "source": [
    "european_sales = df[[\"vendor\",\"platform\", \"europe_millions\"]]\\\n",
    "                     .sort_values(by = \"europe_millions\", \n",
    "                                  ascending = False).head(20)\\\n",
    "                     .reset_index(drop = True)"
   ]
  },
  {
   "cell_type": "markdown",
   "metadata": {},
   "source": [
    "##### 6.2.1.2. Show European Sales (Table)."
   ]
  },
  {
   "cell_type": "code",
   "execution_count": null,
   "metadata": {},
   "outputs": [],
   "source": [
    "european_sales.head(20)"
   ]
  },
  {
   "cell_type": "markdown",
   "metadata": {},
   "source": [
    "##### 6.2.1.3. Show European Sales (Bar Chart)."
   ]
  },
  {
   "cell_type": "code",
   "execution_count": null,
   "metadata": {},
   "outputs": [],
   "source": [
    "sns_barplot_ax(data = european_sales,\n",
    "               x_axis = \"europe_millions\",\n",
    "               x_axis_label = \"Europe (Millions Sold)\",\n",
    "               x_axis_max_value = float(european_sales.europe_millions.max()),\n",
    "               y_axis = \"platform\",\n",
    "               y_axis_label = \"Console\",\n",
    "               hue = \"vendor\",\n",
    "               pallette = colour_pallette,\n",
    "               title = \"Top 20 Selling Consoles (Europe)\");"
   ]
  },
  {
   "cell_type": "markdown",
   "metadata": {},
   "source": [
    "##### 6.2.1.4. Observations."
   ]
  },
  {
   "cell_type": "markdown",
   "metadata": {},
   "source": [
    "#### 6.2.2. Japanese Sales."
   ]
  },
  {
   "cell_type": "markdown",
   "metadata": {},
   "source": [
    "##### 6.2.2.1. Filter Data."
   ]
  },
  {
   "cell_type": "code",
   "execution_count": null,
   "metadata": {},
   "outputs": [],
   "source": [
    "japanese_sales = df[[\"vendor\",\"platform\", \"japan_millions\"]]\\\n",
    "                     .sort_values(by = \"japan_millions\", \n",
    "                                  ascending = False).head(20)\\\n",
    "                     .reset_index(drop = True)"
   ]
  },
  {
   "cell_type": "markdown",
   "metadata": {},
   "source": [
    "##### 6.2.2.2. Show Japanese Sales (Table)."
   ]
  },
  {
   "cell_type": "code",
   "execution_count": null,
   "metadata": {},
   "outputs": [],
   "source": [
    "japanese_sales.head(20)"
   ]
  },
  {
   "cell_type": "markdown",
   "metadata": {},
   "source": [
    "##### 6.2.2.3. Show Japanese Sales (Bar Chart)."
   ]
  },
  {
   "cell_type": "code",
   "execution_count": null,
   "metadata": {},
   "outputs": [],
   "source": [
    "sns_barplot_ax(data = japanese_sales,\n",
    "               x_axis = \"japan_millions\",\n",
    "               x_axis_label = \"Japan (Millions Sold)\",\n",
    "               x_axis_max_value = float(japanese_sales.japan_millions.max()),\n",
    "               y_axis = \"platform\",\n",
    "               y_axis_label = \"Console\",\n",
    "               hue = \"vendor\",\n",
    "               pallette = colour_pallette,\n",
    "               title = \"Top 20 Selling Consoles (Japan)\");"
   ]
  },
  {
   "cell_type": "markdown",
   "metadata": {},
   "source": [
    "##### 6.2.2.4. Observations."
   ]
  },
  {
   "cell_type": "markdown",
   "metadata": {},
   "source": [
    "#### 6.2.3. North American Sales."
   ]
  },
  {
   "cell_type": "markdown",
   "metadata": {},
   "source": [
    "##### 6.2.3.1. Filter Data."
   ]
  },
  {
   "cell_type": "code",
   "execution_count": null,
   "metadata": {},
   "outputs": [],
   "source": [
    "na_sales = df[[\"vendor\",\"platform\", \"north_america_millions\"]]\\\n",
    "               .sort_values(by = \"north_america_millions\", \n",
    "                            ascending = False).head(20)\\\n",
    "               .reset_index(drop = True)"
   ]
  },
  {
   "cell_type": "markdown",
   "metadata": {},
   "source": [
    "##### 6.2.3.2. Show North American Sales (Table)."
   ]
  },
  {
   "cell_type": "code",
   "execution_count": null,
   "metadata": {},
   "outputs": [],
   "source": [
    "na_sales.head(20)"
   ]
  },
  {
   "cell_type": "markdown",
   "metadata": {},
   "source": [
    "##### 6.2.3.3. Show North American Sales (Bar Chart)."
   ]
  },
  {
   "cell_type": "code",
   "execution_count": null,
   "metadata": {},
   "outputs": [],
   "source": [
    "sns_barplot_ax(data = na_sales,\n",
    "               x_axis = \"north_america_millions\",\n",
    "               x_axis_label = \"North America (Millions Sold)\",\n",
    "               x_axis_max_value = float(na_sales.north_america_millions.max()),\n",
    "               y_axis = \"platform\",\n",
    "               y_axis_label = \"Console\",\n",
    "               hue = \"vendor\",\n",
    "               pallette = colour_pallette,\n",
    "               title = \"Top 20 Selling Consoles (North America)\");"
   ]
  },
  {
   "cell_type": "markdown",
   "metadata": {},
   "source": [
    "##### 6.2.3.4. Observations."
   ]
  },
  {
   "cell_type": "markdown",
   "metadata": {},
   "source": [
    "#### 6.2.4. Rest Of The World Sales."
   ]
  },
  {
   "cell_type": "markdown",
   "metadata": {},
   "source": [
    "##### 6.2.4.1 Filter Data."
   ]
  },
  {
   "cell_type": "code",
   "execution_count": null,
   "metadata": {},
   "outputs": [],
   "source": [
    "row_sales = df[[\"vendor\",\"platform\", \"rest_of_the_world_millions\"]]\\\n",
    "                .sort_values(by = \"rest_of_the_world_millions\", \n",
    "                             ascending = False).head(20)\\\n",
    "                .reset_index(drop = True)"
   ]
  },
  {
   "cell_type": "markdown",
   "metadata": {},
   "source": [
    "##### 6.2.4.2. Show Rest Of The World Sales (Table)."
   ]
  },
  {
   "cell_type": "code",
   "execution_count": null,
   "metadata": {},
   "outputs": [],
   "source": [
    "row_sales.head(20)"
   ]
  },
  {
   "cell_type": "markdown",
   "metadata": {},
   "source": [
    "##### 6.2.4.3. Show Rest Of The World Sales (Bar Chart)."
   ]
  },
  {
   "cell_type": "code",
   "execution_count": null,
   "metadata": {},
   "outputs": [],
   "source": [
    "sns_barplot_ax(data = row_sales,\n",
    "               x_axis = \"rest_of_the_world_millions\",\n",
    "               x_axis_label = \"Rest Of The World (Millions Sold)\",\n",
    "               x_axis_max_value = float(row_sales.rest_of_the_world_millions.max()),\n",
    "               y_axis = \"platform\",\n",
    "               y_axis_label = \"Console\",\n",
    "               hue = \"vendor\",\n",
    "               pallette = colour_pallette,\n",
    "               title = \"Top 20 Selling Consoles (Rest Of The World)\");"
   ]
  },
  {
   "cell_type": "markdown",
   "metadata": {},
   "source": [
    "##### 6.2.4.4. Observations."
   ]
  },
  {
   "cell_type": "markdown",
   "metadata": {},
   "source": [
    "#### 6.2.5. Uncategorised Sales."
   ]
  },
  {
   "cell_type": "markdown",
   "metadata": {},
   "source": [
    "##### 6.2.5.1 Filter Data."
   ]
  },
  {
   "cell_type": "code",
   "execution_count": null,
   "metadata": {},
   "outputs": [],
   "source": [
    "unknown_sales = df[[\"vendor\",\"platform\", \"unknown_sales_millions\"]]\\\n",
    "                .sort_values(by = \"unknown_sales_millions\", \n",
    "                             ascending = False).head(20)\\\n",
    "                .reset_index(drop = True)"
   ]
  },
  {
   "cell_type": "markdown",
   "metadata": {},
   "source": [
    "##### 6.2.5.2. Show Uncategorised Sales (Table)."
   ]
  },
  {
   "cell_type": "code",
   "execution_count": null,
   "metadata": {},
   "outputs": [],
   "source": [
    "unknown_sales.head(20)"
   ]
  },
  {
   "cell_type": "markdown",
   "metadata": {},
   "source": [
    "##### 6.2.5.3. Show Uncategorised Sales (Bar Chart)."
   ]
  },
  {
   "cell_type": "code",
   "execution_count": null,
   "metadata": {},
   "outputs": [],
   "source": [
    "sns_barplot_ax(data = unknown_sales,\n",
    "               x_axis = \"unknown_sales_millions\",\n",
    "               x_axis_label = \"Unknown (Millions Sold)\",\n",
    "               x_axis_max_value = float(unknown_sales.unknown_sales_millions.max()),\n",
    "               y_axis = \"platform\",\n",
    "               y_axis_label = \"Console\",\n",
    "               hue = \"vendor\",\n",
    "               pallette = colour_pallette,\n",
    "               title = \"Top 20 Selling Consoles (Unknown Sales)\");"
   ]
  },
  {
   "cell_type": "markdown",
   "metadata": {},
   "source": [
    "##### 6.2.5.4. Observations."
   ]
  },
  {
   "cell_type": "markdown",
   "metadata": {},
   "source": [
    "### 6.3. Rank Consoles By Total Games Available."
   ]
  },
  {
   "cell_type": "markdown",
   "metadata": {},
   "source": [
    "#### 6.3.1. Filter Data."
   ]
  },
  {
   "cell_type": "code",
   "execution_count": null,
   "metadata": {},
   "outputs": [],
   "source": [
    "# -- Create a dataframe with the required filters and features:\n",
    "games_ranking = df[[\"vendor\",\"platform\", \"total_available_games\", \"released_date\"]]\\\n",
    "                 .sort_values(by = \"total_available_games\", \n",
    "                              ascending = False)\\\n",
    "                 .reset_index(drop = True)\n",
    "\n",
    "# -- Add 1 to each index to give the actual rank rather than starting at 0:\n",
    "games_ranking.index = games_ranking.index +1"
   ]
  },
  {
   "cell_type": "markdown",
   "metadata": {},
   "source": [
    "#### 6.3.2. Show Top 20 Consoles By Available Games."
   ]
  },
  {
   "cell_type": "code",
   "execution_count": null,
   "metadata": {},
   "outputs": [],
   "source": [
    "games_ranking.head(20)"
   ]
  },
  {
   "cell_type": "markdown",
   "metadata": {},
   "source": [
    "#### 6.3.3. Show Bottom 20 Consoles By Available Games."
   ]
  },
  {
   "cell_type": "code",
   "execution_count": null,
   "metadata": {},
   "outputs": [],
   "source": [
    "games_ranking.tail(20)"
   ]
  },
  {
   "cell_type": "markdown",
   "metadata": {},
   "source": [
    "#### 6.3.4. Observations."
   ]
  },
  {
   "cell_type": "markdown",
   "metadata": {},
   "source": [
    "- The top 20 consoles with the most games are again dominated by Nintendo, Microsoft and Sony, along with Sega.\n",
    "- With the exception of one (Nintendo), the bottom 20 consoles by available games are from vendors that don't make their own consoles anymore."
   ]
  },
  {
   "cell_type": "markdown",
   "metadata": {},
   "source": [
    "### 6.4. Rank Consoles By MSRP (Highest To Lowest)."
   ]
  },
  {
   "cell_type": "markdown",
   "metadata": {},
   "source": [
    "#### 6.4.1. Filter Data."
   ]
  },
  {
   "cell_type": "code",
   "execution_count": null,
   "metadata": {},
   "outputs": [],
   "source": [
    "# -- Create a dataframe with the required filters and features:\n",
    "msrp_ranking = df[[\"vendor\",\"platform\", \"msrp_usd\", \"released_date\"]]\\\n",
    "                 .sort_values(by = \"msrp_usd\", \n",
    "                              ascending = False).head(20)\\\n",
    "                 .reset_index(drop = True)\n",
    "\n",
    "# -- Add 1 to each index to give the actual rank rather than starting at 0:\n",
    "msrp_ranking.index = msrp_ranking.index +1"
   ]
  },
  {
   "cell_type": "markdown",
   "metadata": {},
   "source": [
    "#### 6.4.2. Show Results (Table)."
   ]
  },
  {
   "cell_type": "code",
   "execution_count": null,
   "metadata": {},
   "outputs": [],
   "source": [
    "msrp_ranking"
   ]
  },
  {
   "cell_type": "markdown",
   "metadata": {},
   "source": [
    "#### 6.4.3. Observations."
   ]
  },
  {
   "cell_type": "markdown",
   "metadata": {},
   "source": [
    "- Of the top 20 list, only Microsoft, Nintendo and Sony are still manufacturing consoles.\n",
    "- The majority of the top 20 highest priced consoles at launch are from companies that no longer manufacture consoles under their respective name.\n",
    "- The top 5 most expensive consoles were released between 1990 and 1999.\n",
    "- Of the top 20, 10 were released between 1990 and 1999."
   ]
  },
  {
   "cell_type": "markdown",
   "metadata": {},
   "source": [
    "### 6.5. Rank Consoles By Form Factor (Handheld Or Not) Base On World-Wide Sales."
   ]
  },
  {
   "cell_type": "markdown",
   "metadata": {},
   "source": [
    "### 6.6. Rank Consoles By Form Factor (Handheld Or Not) Base On Regional Sales."
   ]
  },
  {
   "cell_type": "markdown",
   "metadata": {},
   "source": [
    "### 6.7. Rank Vendors By World-Wide Consoles Sold And What Each Console Is."
   ]
  },
  {
   "cell_type": "markdown",
   "metadata": {},
   "source": [
    "### 6.8. Rank Vendors By Regional Consoles Sold And What Each Console Is."
   ]
  },
  {
   "cell_type": "markdown",
   "metadata": {},
   "source": [
    "### 6.9. What Is The Most Popular Console For Each Decade."
   ]
  },
  {
   "cell_type": "markdown",
   "metadata": {},
   "source": [
    "### 6.10. The Average Price Of A Console For Each Decade."
   ]
  },
  {
   "cell_type": "markdown",
   "metadata": {},
   "source": [
    "### 6.11. The Average Life Cycle Of A Console Overall And By Decade."
   ]
  },
  {
   "cell_type": "markdown",
   "metadata": {},
   "source": [
    "### 6.12. The Failure Rate For Each Console."
   ]
  }
 ],
 "metadata": {
  "kernelspec": {
   "display_name": "Python 3",
   "language": "python",
   "name": "python3"
  },
  "language_info": {
   "codemirror_mode": {
    "name": "ipython",
    "version": 3
   },
   "file_extension": ".py",
   "mimetype": "text/x-python",
   "name": "python",
   "nbconvert_exporter": "python",
   "pygments_lexer": "ipython3",
   "version": "3.11.6"
  },
  "orig_nbformat": 4
 },
 "nbformat": 4,
 "nbformat_minor": 2
}
