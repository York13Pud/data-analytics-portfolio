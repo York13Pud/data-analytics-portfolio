{
 "cells": [
  {
   "cell_type": "markdown",
   "metadata": {},
   "source": [
    "# Worldwide Total Video Game Console Sales Analysis"
   ]
  },
  {
   "cell_type": "markdown",
   "metadata": {},
   "source": [
    "## 1. Introduction"
   ]
  },
  {
   "cell_type": "markdown",
   "metadata": {},
   "source": [
    "This notebook covers the analysis of some of the worlds best selling video games consoles, ranging from the 1970's to current day consoles."
   ]
  },
  {
   "cell_type": "markdown",
   "metadata": {},
   "source": [
    "## 2. Requirements"
   ]
  },
  {
   "cell_type": "markdown",
   "metadata": {},
   "source": [
    "The main insights that are required from this analysis are:\n",
    "\n",
    "- Rank the consoles by their overall sales.\n",
    "- Rank the consoles by their regional sales.\n",
    "- Rank the consoles by their overall number of games.\n",
    "- Rank the consoles by their overall msrp (highest to lowest).\n",
    "- Rank the consoles by their form factor (handheld or not) and overall sales.\n",
    "- Rank the consoles by their form factor (handheld or not) and regional sales.\n",
    "- Rank the vendors by the overall consoles sold and what each one was.\n",
    "- Rank the vendors by the regional consoles sold and what each one was.\n",
    "- Determine what the most popular console was for each decade that is present in the data.\n",
    "- The average price of a console for each decade in the data.\n",
    "- The average life cycle of a console overall and by decade.\n",
    "- The overall failure rate number for each console."
   ]
  },
  {
   "cell_type": "markdown",
   "metadata": {},
   "source": [
    "## 3. Data Collection"
   ]
  },
  {
   "cell_type": "markdown",
   "metadata": {},
   "source": [
    "The bulk of the data for this was collected using a web scraper from https://www.videogameconsolelibrary.com.\n",
    "\n",
    "The originally scraped data was saved to a CSV file called 01-original-data.csv, which is stored in the data folder.\n",
    "\n",
    "Additionally, a number of features were added to the data using Excel from a number of sources. These sources include:\n",
    "\n",
    "- https://www.computinghistory.org.uk/ - Used for additional stats, such as launch price and release / discontinuation dates.\n",
    "- https://www.macrotrends.net/ - Used for currency conversions of older systems reported in non-USD currencies.\n",
    "- https://necretro.org/ - Used for additional stats, such as launch price and release / discontinuation dates.\n",
    "- https://en.wikipedia.org/ Used for additional stats, such as launch price and release / discontinuation dates.\n",
    "\n",
    "Lastly, the failure rate information for the xBox 360, PlayStation 3 and Wii were obtained from the below link:\n",
    "https://www.squaretrade.com/htm/pdf/SquareTrade_Xbox360_PS3_Wii_Reliability_0809.pdf\n",
    "\n",
    "The failure rate for other consoles is unknown so an estimate of 7.5% was used. This was determined by taking the failure rate of the Nintendo Wii (2.7%), which was rounded to 3% and the failure rate of the PlayStation 3 (10%) and working out the middle point between them (7.5%).\n",
    "\n",
    "The final data that will be used for this is stored in `./data/02-processed-data.xlsx`. A CSV version (`02-processed-data.csv`) is also stored in the same location.\n",
    "\n",
    "**NOTE** The Pandora console was removed as it is used mostly for emulation and has no real native games."
   ]
  },
  {
   "cell_type": "markdown",
   "metadata": {},
   "source": [
    "## 4. Data Dictionary"
   ]
  },
  {
   "cell_type": "markdown",
   "metadata": {},
   "source": [
    "1. platform - The name of the console / system.\n",
    "2. north_america_original - The originally scraped sales numbers for North America (shown in millions sold).\n",
    "3. north_america - The multiplying of north_america_original by one million.\n",
    "4. europe_original - The originally scraped sales numbers for Europe (shown in millions sold).\n",
    "5. europe - The multiplying of europe_original by one million.\n",
    "6. japan_original - The originally scraped sales numbers for Japan (shown in millions sold).\n",
    "7. japan - The multiplying of japan_original by one million.\n",
    "8. rest_of_the_world_original - The originally scraped sales numbers for the rest of the world (shown in millions sold).\n",
    "9. rest_of_the_world - The multiplying of rest_of_the_world_original by one million.\n",
    "10. unknown_sales - The sales that were made that were not accounted for in any of the geographies above. This was determined by deducting the known geographies sales from the global feature.\n",
    "11. global_original - The originally scraped total sales numbers (shown in millions sold).\n",
    "12. global - The multiplying of global_original by one million.\n",
    "13. released_date - The year the console / system was released.\n",
    "14. discontinued_date - The year the console / system was discontinued from sale.\n",
    "15. msrp_usd - The launch price of the console / system.\n",
    "16. handheld - Is the console / system a handheld device. True = Yes, False = No.\n",
    "17. total_available_games - The total games that were / are available for the console / system.\n",
    "18. failure_rate_percentage - The failure rate of the console / system.\n",
    "19. vendor - The vendor of the console / system.\n",
    "20. position_when_scraped - The position the console / system was in at the time of being scraped. This is based on units sold."
   ]
  },
  {
   "cell_type": "markdown",
   "metadata": {},
   "source": [
    "## 5. Data Importing And Formatting"
   ]
  },
  {
   "cell_type": "markdown",
   "metadata": {},
   "source": [
    "### 5.1. Import The Required Libraries / Modules"
   ]
  },
  {
   "cell_type": "code",
   "execution_count": 1,
   "metadata": {},
   "outputs": [],
   "source": [
    "# -- Required libraries:\n",
    "import matplotlib.pyplot as plt\n",
    "import numpy as np\n",
    "import pandas as pd\n",
    "import seaborn as sns"
   ]
  },
  {
   "cell_type": "code",
   "execution_count": 2,
   "metadata": {},
   "outputs": [],
   "source": [
    "# -- Required modules:\n",
    "from modules.seaborn_templates import sns_barplot_ax"
   ]
  },
  {
   "cell_type": "markdown",
   "metadata": {},
   "source": [
    "### 5.2. Import The Data"
   ]
  },
  {
   "cell_type": "code",
   "execution_count": 3,
   "metadata": {},
   "outputs": [],
   "source": [
    "# -- Select the columns to use:\n",
    "columns = [\"vendor\", \"platform\", \"handheld\", \"released_date\", \"discontinued_date\",\n",
    "           \"total_available_games\", \"failure_rate_percentage\", \"msrp_usd\",\n",
    "           \"global_millions\", \"europe_millions\", \"north_america_millions\", \n",
    "           \"japan_millions\", \"rest_of_the_world_millions\", \n",
    "           \"unknown_sales_millions\"]\n",
    "\n",
    "df = pd.read_excel(io = \"./data/02-processed-data.xlsx\", \n",
    "                   sheet_name = \"02-processed-data\",\n",
    "                   usecols = columns,\n",
    "                   dtype = {\"global_millions\": np.float64,\n",
    "                            \"europe_millions\": np.float64, \n",
    "                            \"north_america_millions\": np.float64,\n",
    "                            \"japan_millions\": np.float64, \n",
    "                            \"rest_of_the_world_millions\": np.float64,\n",
    "                            \"unknown_sales_millions\": np.float64})\n",
    "\n",
    "# -- Reindex the dataframe so that the columns are in the required order:\n",
    "df = df.reindex(columns = columns)"
   ]
  },
  {
   "cell_type": "markdown",
   "metadata": {},
   "source": []
  },
  {
   "cell_type": "markdown",
   "metadata": {},
   "source": [
    "### 5.3. Check The DataTypes"
   ]
  },
  {
   "cell_type": "code",
   "execution_count": 4,
   "metadata": {},
   "outputs": [
    {
     "data": {
      "text/plain": [
       "vendor                         object\n",
       "platform                       object\n",
       "handheld                         bool\n",
       "released_date                   int64\n",
       "discontinued_date               int64\n",
       "total_available_games           int64\n",
       "failure_rate_percentage       float64\n",
       "msrp_usd                      float64\n",
       "global_millions               float64\n",
       "europe_millions               float64\n",
       "north_america_millions        float64\n",
       "japan_millions                float64\n",
       "rest_of_the_world_millions    float64\n",
       "unknown_sales_millions        float64\n",
       "dtype: object"
      ]
     },
     "execution_count": 4,
     "metadata": {},
     "output_type": "execute_result"
    }
   ],
   "source": [
    "df.dtypes"
   ]
  },
  {
   "cell_type": "markdown",
   "metadata": {},
   "source": [
    "### 5.4. Check The First Five Rows"
   ]
  },
  {
   "cell_type": "code",
   "execution_count": 5,
   "metadata": {},
   "outputs": [
    {
     "data": {
      "text/html": [
       "<div>\n",
       "<style scoped>\n",
       "    .dataframe tbody tr th:only-of-type {\n",
       "        vertical-align: middle;\n",
       "    }\n",
       "\n",
       "    .dataframe tbody tr th {\n",
       "        vertical-align: top;\n",
       "    }\n",
       "\n",
       "    .dataframe thead th {\n",
       "        text-align: right;\n",
       "    }\n",
       "</style>\n",
       "<table border=\"1\" class=\"dataframe\">\n",
       "  <thead>\n",
       "    <tr style=\"text-align: right;\">\n",
       "      <th></th>\n",
       "      <th>vendor</th>\n",
       "      <th>platform</th>\n",
       "      <th>handheld</th>\n",
       "      <th>released_date</th>\n",
       "      <th>discontinued_date</th>\n",
       "      <th>total_available_games</th>\n",
       "      <th>failure_rate_percentage</th>\n",
       "      <th>msrp_usd</th>\n",
       "      <th>global_millions</th>\n",
       "      <th>europe_millions</th>\n",
       "      <th>north_america_millions</th>\n",
       "      <th>japan_millions</th>\n",
       "      <th>rest_of_the_world_millions</th>\n",
       "      <th>unknown_sales_millions</th>\n",
       "    </tr>\n",
       "  </thead>\n",
       "  <tbody>\n",
       "    <tr>\n",
       "      <th>0</th>\n",
       "      <td>Sony</td>\n",
       "      <td>PlayStation 2 (PS2)</td>\n",
       "      <td>False</td>\n",
       "      <td>2000</td>\n",
       "      <td>2013</td>\n",
       "      <td>3565</td>\n",
       "      <td>7.5</td>\n",
       "      <td>299.00</td>\n",
       "      <td>158.70</td>\n",
       "      <td>55.28</td>\n",
       "      <td>53.65</td>\n",
       "      <td>23.18</td>\n",
       "      <td>26.59</td>\n",
       "      <td>0.0</td>\n",
       "    </tr>\n",
       "    <tr>\n",
       "      <th>1</th>\n",
       "      <td>Nintendo</td>\n",
       "      <td>Nintendo DS (DS)</td>\n",
       "      <td>True</td>\n",
       "      <td>2004</td>\n",
       "      <td>2014</td>\n",
       "      <td>3289</td>\n",
       "      <td>7.5</td>\n",
       "      <td>149.99</td>\n",
       "      <td>154.03</td>\n",
       "      <td>51.84</td>\n",
       "      <td>57.92</td>\n",
       "      <td>32.99</td>\n",
       "      <td>11.28</td>\n",
       "      <td>0.0</td>\n",
       "    </tr>\n",
       "    <tr>\n",
       "      <th>2</th>\n",
       "      <td>Nintendo</td>\n",
       "      <td>Nintendo Switch (NS)</td>\n",
       "      <td>True</td>\n",
       "      <td>2017</td>\n",
       "      <td>0</td>\n",
       "      <td>2258</td>\n",
       "      <td>7.5</td>\n",
       "      <td>299.99</td>\n",
       "      <td>129.42</td>\n",
       "      <td>33.11</td>\n",
       "      <td>46.17</td>\n",
       "      <td>30.46</td>\n",
       "      <td>19.68</td>\n",
       "      <td>0.0</td>\n",
       "    </tr>\n",
       "    <tr>\n",
       "      <th>3</th>\n",
       "      <td>Nintendo</td>\n",
       "      <td>Game Boy (GB)</td>\n",
       "      <td>True</td>\n",
       "      <td>1989</td>\n",
       "      <td>2003</td>\n",
       "      <td>1600</td>\n",
       "      <td>7.5</td>\n",
       "      <td>89.99</td>\n",
       "      <td>118.69</td>\n",
       "      <td>40.05</td>\n",
       "      <td>43.18</td>\n",
       "      <td>32.47</td>\n",
       "      <td>2.99</td>\n",
       "      <td>0.0</td>\n",
       "    </tr>\n",
       "    <tr>\n",
       "      <th>4</th>\n",
       "      <td>Sony</td>\n",
       "      <td>PlayStation 4 (PS4)</td>\n",
       "      <td>False</td>\n",
       "      <td>2013</td>\n",
       "      <td>2021</td>\n",
       "      <td>2747</td>\n",
       "      <td>7.5</td>\n",
       "      <td>399.99</td>\n",
       "      <td>117.11</td>\n",
       "      <td>45.86</td>\n",
       "      <td>38.08</td>\n",
       "      <td>9.65</td>\n",
       "      <td>23.52</td>\n",
       "      <td>0.0</td>\n",
       "    </tr>\n",
       "  </tbody>\n",
       "</table>\n",
       "</div>"
      ],
      "text/plain": [
       "     vendor              platform  handheld  released_date  discontinued_date  \\\n",
       "0      Sony   PlayStation 2 (PS2)     False           2000               2013   \n",
       "1  Nintendo      Nintendo DS (DS)      True           2004               2014   \n",
       "2  Nintendo  Nintendo Switch (NS)      True           2017                  0   \n",
       "3  Nintendo         Game Boy (GB)      True           1989               2003   \n",
       "4      Sony   PlayStation 4 (PS4)     False           2013               2021   \n",
       "\n",
       "   total_available_games  failure_rate_percentage  msrp_usd  global_millions  \\\n",
       "0                   3565                      7.5    299.00           158.70   \n",
       "1                   3289                      7.5    149.99           154.03   \n",
       "2                   2258                      7.5    299.99           129.42   \n",
       "3                   1600                      7.5     89.99           118.69   \n",
       "4                   2747                      7.5    399.99           117.11   \n",
       "\n",
       "   europe_millions  north_america_millions  japan_millions  \\\n",
       "0            55.28                   53.65           23.18   \n",
       "1            51.84                   57.92           32.99   \n",
       "2            33.11                   46.17           30.46   \n",
       "3            40.05                   43.18           32.47   \n",
       "4            45.86                   38.08            9.65   \n",
       "\n",
       "   rest_of_the_world_millions  unknown_sales_millions  \n",
       "0                       26.59                     0.0  \n",
       "1                       11.28                     0.0  \n",
       "2                       19.68                     0.0  \n",
       "3                        2.99                     0.0  \n",
       "4                       23.52                     0.0  "
      ]
     },
     "execution_count": 5,
     "metadata": {},
     "output_type": "execute_result"
    }
   ],
   "source": [
    "df.head(n = 5)"
   ]
  },
  {
   "cell_type": "markdown",
   "metadata": {},
   "source": [
    "### 5.5. Check For NaN Values"
   ]
  },
  {
   "cell_type": "code",
   "execution_count": 6,
   "metadata": {},
   "outputs": [
    {
     "data": {
      "text/plain": [
       "vendor                        0\n",
       "platform                      0\n",
       "handheld                      0\n",
       "released_date                 0\n",
       "discontinued_date             0\n",
       "total_available_games         0\n",
       "failure_rate_percentage       0\n",
       "msrp_usd                      0\n",
       "global_millions               0\n",
       "europe_millions               0\n",
       "north_america_millions        0\n",
       "japan_millions                0\n",
       "rest_of_the_world_millions    0\n",
       "unknown_sales_millions        0\n",
       "dtype: int64"
      ]
     },
     "execution_count": 6,
     "metadata": {},
     "output_type": "execute_result"
    }
   ],
   "source": [
    "df.isna().sum()"
   ]
  },
  {
   "cell_type": "markdown",
   "metadata": {},
   "source": [
    "Observation: There are no NaN (not a number) values in the dataframe. \n",
    "\n",
    "As a result, it is ok to start exploring the data."
   ]
  },
  {
   "cell_type": "markdown",
   "metadata": {},
   "source": []
  },
  {
   "cell_type": "markdown",
   "metadata": {},
   "source": [
    "## 6. Exploratory Data Analysis"
   ]
  },
  {
   "cell_type": "markdown",
   "metadata": {},
   "source": [
    "### 6.1 Rank Consoles By World-Wide Sales"
   ]
  },
  {
   "cell_type": "markdown",
   "metadata": {},
   "source": [
    "**NOTE:** Limiting results to top 20 for ease of output."
   ]
  },
  {
   "cell_type": "code",
   "execution_count": 7,
   "metadata": {},
   "outputs": [
    {
     "data": {
      "text/html": [
       "<div>\n",
       "<style scoped>\n",
       "    .dataframe tbody tr th:only-of-type {\n",
       "        vertical-align: middle;\n",
       "    }\n",
       "\n",
       "    .dataframe tbody tr th {\n",
       "        vertical-align: top;\n",
       "    }\n",
       "\n",
       "    .dataframe thead th {\n",
       "        text-align: right;\n",
       "    }\n",
       "</style>\n",
       "<table border=\"1\" class=\"dataframe\">\n",
       "  <thead>\n",
       "    <tr style=\"text-align: right;\">\n",
       "      <th></th>\n",
       "      <th>vendor</th>\n",
       "      <th>platform</th>\n",
       "      <th>global_millions</th>\n",
       "    </tr>\n",
       "  </thead>\n",
       "  <tbody>\n",
       "    <tr>\n",
       "      <th>0</th>\n",
       "      <td>Sony</td>\n",
       "      <td>PlayStation 2 (PS2)</td>\n",
       "      <td>158.70</td>\n",
       "    </tr>\n",
       "    <tr>\n",
       "      <th>1</th>\n",
       "      <td>Nintendo</td>\n",
       "      <td>Nintendo DS (DS)</td>\n",
       "      <td>154.03</td>\n",
       "    </tr>\n",
       "    <tr>\n",
       "      <th>2</th>\n",
       "      <td>Nintendo</td>\n",
       "      <td>Nintendo Switch (NS)</td>\n",
       "      <td>129.42</td>\n",
       "    </tr>\n",
       "    <tr>\n",
       "      <th>3</th>\n",
       "      <td>Nintendo</td>\n",
       "      <td>Game Boy (GB)</td>\n",
       "      <td>118.69</td>\n",
       "    </tr>\n",
       "    <tr>\n",
       "      <th>4</th>\n",
       "      <td>Sony</td>\n",
       "      <td>PlayStation 4 (PS4)</td>\n",
       "      <td>117.11</td>\n",
       "    </tr>\n",
       "    <tr>\n",
       "      <th>5</th>\n",
       "      <td>Sony</td>\n",
       "      <td>PlayStation (PS)</td>\n",
       "      <td>102.50</td>\n",
       "    </tr>\n",
       "    <tr>\n",
       "      <th>6</th>\n",
       "      <td>Nintendo</td>\n",
       "      <td>Nintendo Wii (Wii)</td>\n",
       "      <td>101.63</td>\n",
       "    </tr>\n",
       "    <tr>\n",
       "      <th>7</th>\n",
       "      <td>Sony</td>\n",
       "      <td>PlayStation 3 (PS3)</td>\n",
       "      <td>87.40</td>\n",
       "    </tr>\n",
       "    <tr>\n",
       "      <th>8</th>\n",
       "      <td>Microsoft</td>\n",
       "      <td>Xbox 360 (X360)</td>\n",
       "      <td>85.73</td>\n",
       "    </tr>\n",
       "    <tr>\n",
       "      <th>9</th>\n",
       "      <td>Nintendo</td>\n",
       "      <td>Game Boy Advance (GBA)</td>\n",
       "      <td>81.51</td>\n",
       "    </tr>\n",
       "    <tr>\n",
       "      <th>10</th>\n",
       "      <td>Sony</td>\n",
       "      <td>PlayStation Portable (PSP)</td>\n",
       "      <td>80.79</td>\n",
       "    </tr>\n",
       "    <tr>\n",
       "      <th>11</th>\n",
       "      <td>Nintendo</td>\n",
       "      <td>Nintendo 3DS (3DS)</td>\n",
       "      <td>75.94</td>\n",
       "    </tr>\n",
       "    <tr>\n",
       "      <th>12</th>\n",
       "      <td>Nintendo</td>\n",
       "      <td>Nintendo Entertainment System (NES)</td>\n",
       "      <td>61.91</td>\n",
       "    </tr>\n",
       "    <tr>\n",
       "      <th>13</th>\n",
       "      <td>Microsoft</td>\n",
       "      <td>Xbox One (XOne)</td>\n",
       "      <td>57.97</td>\n",
       "    </tr>\n",
       "    <tr>\n",
       "      <th>14</th>\n",
       "      <td>Nintendo</td>\n",
       "      <td>Super Nintendo Entertainment System (SNES)</td>\n",
       "      <td>49.10</td>\n",
       "    </tr>\n",
       "    <tr>\n",
       "      <th>15</th>\n",
       "      <td>Sony</td>\n",
       "      <td>PlayStation 5 (PS5)</td>\n",
       "      <td>42.23</td>\n",
       "    </tr>\n",
       "    <tr>\n",
       "      <th>16</th>\n",
       "      <td>Sega</td>\n",
       "      <td>Sega Genesis (GEN)</td>\n",
       "      <td>34.06</td>\n",
       "    </tr>\n",
       "    <tr>\n",
       "      <th>17</th>\n",
       "      <td>Nintendo</td>\n",
       "      <td>Nintendo 64 (N64)</td>\n",
       "      <td>32.93</td>\n",
       "    </tr>\n",
       "    <tr>\n",
       "      <th>18</th>\n",
       "      <td>Atari</td>\n",
       "      <td>Atari 2600 (2600)</td>\n",
       "      <td>30.00</td>\n",
       "    </tr>\n",
       "    <tr>\n",
       "      <th>19</th>\n",
       "      <td>Microsoft</td>\n",
       "      <td>Xbox (XB)</td>\n",
       "      <td>24.65</td>\n",
       "    </tr>\n",
       "  </tbody>\n",
       "</table>\n",
       "</div>"
      ],
      "text/plain": [
       "       vendor                                    platform  global_millions\n",
       "0        Sony                         PlayStation 2 (PS2)           158.70\n",
       "1    Nintendo                            Nintendo DS (DS)           154.03\n",
       "2    Nintendo                        Nintendo Switch (NS)           129.42\n",
       "3    Nintendo                               Game Boy (GB)           118.69\n",
       "4        Sony                         PlayStation 4 (PS4)           117.11\n",
       "5        Sony                            PlayStation (PS)           102.50\n",
       "6    Nintendo                          Nintendo Wii (Wii)           101.63\n",
       "7        Sony                         PlayStation 3 (PS3)            87.40\n",
       "8   Microsoft                             Xbox 360 (X360)            85.73\n",
       "9    Nintendo                      Game Boy Advance (GBA)            81.51\n",
       "10       Sony                  PlayStation Portable (PSP)            80.79\n",
       "11   Nintendo                          Nintendo 3DS (3DS)            75.94\n",
       "12   Nintendo         Nintendo Entertainment System (NES)            61.91\n",
       "13  Microsoft                             Xbox One (XOne)            57.97\n",
       "14   Nintendo  Super Nintendo Entertainment System (SNES)            49.10\n",
       "15       Sony                         PlayStation 5 (PS5)            42.23\n",
       "16       Sega                          Sega Genesis (GEN)            34.06\n",
       "17   Nintendo                           Nintendo 64 (N64)            32.93\n",
       "18      Atari                           Atari 2600 (2600)            30.00\n",
       "19  Microsoft                                   Xbox (XB)            24.65"
      ]
     },
     "execution_count": 7,
     "metadata": {},
     "output_type": "execute_result"
    }
   ],
   "source": [
    "global_sales = df[[\"vendor\",\"platform\", \"global_millions\"]].sort_values(by = \"global_millions\", \n",
    "                                                                        ascending = False).head(20)\n",
    "global_sales"
   ]
  },
  {
   "cell_type": "code",
   "execution_count": 8,
   "metadata": {},
   "outputs": [
    {
     "data": {
      "image/png": "[encoded data removed]",
      "text/plain": [
       "<Figure size 800x600 with 1 Axes>"
      ]
     },
     "metadata": {},
     "output_type": "display_data"
    }
   ],
   "source": [
    "plt.figure(figsize=(8,6))\n",
    "\n",
    "sns_barplot_ax(data = global_sales,\n",
    "               x_axis = \"global_millions\",\n",
    "               x_axis_label = \"Global (Millions Sold)\",\n",
    "               y_axis = \"platform\",\n",
    "               y_axis_label = \"Console\",\n",
    "               hue = \"platform\")\n",
    "\n",
    "sns.despine()"
   ]
  },
  {
   "cell_type": "markdown",
   "metadata": {},
   "source": [
    "### 6.2 Rank Consoles By Regional Sales"
   ]
  },
  {
   "cell_type": "markdown",
   "metadata": {},
   "source": [
    "### 6.3 Rank Consoles By Total Games Available"
   ]
  },
  {
   "cell_type": "markdown",
   "metadata": {},
   "source": [
    "### 6.4 Rank Consoles MSRP (Highest To Lowest)"
   ]
  },
  {
   "cell_type": "markdown",
   "metadata": {},
   "source": [
    "### 6.5 Rank Consoles By Form Factor (Handheld Or Not) Base On World-Wide Sales"
   ]
  },
  {
   "cell_type": "markdown",
   "metadata": {},
   "source": [
    "### 6.6 Rank Consoles By Form Factor (Handheld Or Not) Base On Regional Sales"
   ]
  },
  {
   "cell_type": "markdown",
   "metadata": {},
   "source": [
    "### 6.7 Rank Vendors By World-Wide Consoles Sold And What Each Console Is"
   ]
  },
  {
   "cell_type": "markdown",
   "metadata": {},
   "source": [
    "### 6.8 Rank Vendors By Regional Consoles Sold And What Each Console Is"
   ]
  },
  {
   "cell_type": "markdown",
   "metadata": {},
   "source": [
    "### 6.9 What Is The Most Popular Console For Each Decade"
   ]
  },
  {
   "cell_type": "markdown",
   "metadata": {},
   "source": [
    "### 6.10 The Average Price Of A Console For Each Decade"
   ]
  },
  {
   "cell_type": "markdown",
   "metadata": {},
   "source": [
    "### 6.11 The Average Life Cycle Of A Console Overall And By Decade"
   ]
  },
  {
   "cell_type": "markdown",
   "metadata": {},
   "source": [
    "### 6.12 The Failure Rate For Each Console"
   ]
  }
 ],
 "metadata": {
  "kernelspec": {
   "display_name": "Python 3",
   "language": "python",
   "name": "python3"
  },
  "language_info": {
   "codemirror_mode": {
    "name": "ipython",
    "version": 3
   },
   "file_extension": ".py",
   "mimetype": "text/x-python",
   "name": "python",
   "nbconvert_exporter": "python",
   "pygments_lexer": "ipython3",
   "version": "3.11.6"
  },
  "orig_nbformat": 4
 },
 "nbformat": 4,
 "nbformat_minor": 2
}
